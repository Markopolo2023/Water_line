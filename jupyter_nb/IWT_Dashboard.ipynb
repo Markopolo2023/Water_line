{
 "cells": [
  {
   "cell_type": "markdown",
   "metadata": {},
   "source": [
    "# IWT Water Treatment Dashboard\n",
    "\n",
    "## Project Overview\n",
    "\n",
    "This project transforms legacy water testing reports (PDFs and DOCX files) into a modern, interactive dashboard for water quality analysis in industrial settings (e.g., cooling towers, boilers). It showcases skills in **data extraction**, **ETL pipelines**, **database management**, and **interactive visualization**, ideal for data engineering and analytics roles.\n",
    "\n",
    "**Key Components:**\n",
    "- **Data Pulling/Sorting**: Collect and categorize reports (`pull.py`, `sort.py`).\n",
    "- **Data Extraction**: Parse PDFs (`pdf_process.py`) and DOCX (`docx_process.py`).\n",
    "- **Data Storage**: Store in SQLite with optional MSSQL export (`mssql_exporter.py`).\n",
    "- **Dashboard**: Interactive Dash/Plotly interface (`app.py`, `rules.py`).\n",
    "\n",
    "Repository: [GitHub - Water_line](https://github.com/Markopolo2023/Water_line)\n",
    "\n",
    "**Technologies:**\n",
    "- Python: `pandas`, `dash`, `plotly`, `pdfplumber`, `python-docx`, `PyPDF2`, `sqlite3`, `pyodbc`\n",
    "- Data Processing: Custom parsers for inconsistent formats\n",
    "- Visualization: Dash with dropdowns, charts, and rule-based insights\n",
    "\n",
    "**Note**: Data files (`pr/`, `dr/`, `combined.db`) are excluded for privacy. Contact me for a demo with anonymized data."
   ]
  },
  {
   "cell_type": "markdown",
   "metadata": {},
   "source": [
    "## Step 1: Pulling Reports\n",
    "\n",
    "`pull.py` recursively collects PDF/DOCX reports from a report folders and copies them to a destination (e.g., `pr/` or `dr/`). It handles filename conflicts by appending counters.\n",
    "\n",
    "**Sample Code**:"
   ]
  },
  {
   "cell_type": "code",
   "execution_count": null,
   "metadata": {},
   "outputs": [],
   "source": [
    "import os\n",
    "import shutil\n",
    "\n",
    "def extract_reports(root_dir, dest_dir):\n",
    "    if not os.path.exists(dest_dir):\n",
    "        os.makedirs(dest_dir)\n",
    "    copied_files = 0\n",
    "    target_name = 'site visit reports'.lower()\n",
    "    for dirpath, _, filenames in os.walk(root_dir):\n",
    "        if os.path.basename(dirpath).lower() == target_name:\n",
    "            for subpath, _, subfiles in os.walk(dirpath):\n",
    "                for filename in subfiles:\n",
    "                    if filename.lower().endswith(('.pdf', '.docx')):\n",
    "                        source_path = os.path.join(subpath, filename)\n",
    "                        dest_path = os.path.join(dest_dir, filename)\n",
    "                        if os.path.exists(dest_path):\n",
    "                            base, ext = os.path.splitext(filename)\n",
    "                            counter = 1\n",
    "                            while os.path.exists(os.path.join(dest_dir, f'{base}_{counter}{ext}')):\n",
    "                                counter += 1\n",
    "                            dest_path = os.path.join(dest_dir, f'{base}_{counter}{ext}')\n",
    "                        shutil.copy(source_path, dest_path)\n",
    "                        copied_files += 1\n",
    "    print(f'Copied {copied_files} files to {dest_dir}.')\n",
    "\n",
    "# Example: extract_reports('C:\', 'pr')"
   ]
  },
  {
   "cell_type": "markdown",
   "metadata": {},
   "source": [
    "## Step 2: Sorting Reports\n",
    "\n",
    "`sort.py` classifies PDFs into `handwritten`, `excel_table`, or `docx_to_pdf` based on metadata and content, moving them to respective folders. DOCX files go to `docx/`.\n",
    "\n",
    "**Sample Code**:"
   ]
  },
  {
   "cell_type": "code",
   "execution_count": null,
   "metadata": {},
   "outputs": [],
   "source": [
    "from PyPDF2 import PdfReader\n",
    "\n",
    "def classify_pdf(pdf_path):\n",
    "    try:\n",
    "        reader = PdfReader(pdf_path)\n",
    "        text = ''.join(page.extract_text() or '' for page in reader.pages).strip()\n",
    "        metadata = reader.metadata\n",
    "        producer = str(metadata.get('/Producer', 'None')).lower() if metadata else ''\n",
    "        creator = str(metadata.get('/Creator', 'None')).lower() if metadata else ''\n",
    "        if len(text) == 0:\n",
    "            return 'handwritten'\n",
    "        if any(k in producer or k in creator for k in ['excel', 'xls']):\n",
    "            return 'excel_table'\n",
    "        if any(k in producer or k in creator for k in ['word', 'docx']):\n",
    "            return 'docx_to_pdf'\n",
    "        return 'excel_table' if 'Comments and Recommendations:' not in text else 'docx_to_pdf'\n",
    "    except:\n",
    "        return None\n",
    "\n",
    "# Example: sort_files('C:\pr', recursive=True)"
   ]
  },
  {
   "cell_type": "markdown",
   "metadata": {},
   "source": [
    "## Step 3: Extracting Data from PDFs\n",
    "\n",
    "`pdf_process.py` extracts facility details, dates, chemists, and metrics from PDFs using `pdfplumber`, handling varied table formats and saving as JSON in `data_processing/`.\n",
    "\n",
    "**Sample Code**:"
   ]
  },
  {
   "cell_type": "code",
   "execution_count": null,
   "metadata": {},
   "outputs": [],
   "source": [
    "import pdfplumber\n",
    "import os\n",
    "import json\n",
    "\n",
    "def main():\n",
    "    input_dir = 'pr'\n",
    "    output_dir = 'data_processing'\n",
    "    os.makedirs(output_dir, exist_ok=True)\n",
    "    for file_name in os.listdir(input_dir):\n",
    "        if file_name.lower().endswith('.pdf'):\n",
    "            try:\n",
    "                pdf_path = os.path.join(input_dir, file_name)\n",
    "                data = extract_data_from_pdf(pdf_path)  # Assume defined from pdf_process.py\n",
    "                output_file = os.path.splitext(file_name)[0] + '.json'\n",
    "                output_path = os.path.join(output_dir, output_file)\n",
    "                with open(output_path, 'w', encoding='utf-8') as f:\n",
    "                    json.dump(data, f, indent=4)\n",
    "                print(f'Processed {file_name}')\n",
    "            except Exception as e:\n",
    "                print(f'Error processing {file_name}: {e}')\n",
    "\n",
    "# main()  # Uncomment to run"
   ]
  },
  {
   "cell_type": "markdown",
   "metadata": {},
   "source": [
    "## Step 4: Extracting Data from DOCX\n",
    "\n",
    "`docx_process.py` parses DOCX files for dates, facilities, signatures, and measurements, saving as JSON.\n",
    "\n",
    "**Sample Code**:"
   ]
  },
  {
   "cell_type": "code",
   "execution_count": null,
   "metadata": {},
   "outputs": [],
   "source": [
    "from docx import Document\n",
    "import json\n",
    "from pathlib import Path\n",
    "\n",
    "input_dir = Path('dr')\n",
    "output_dir = Path('data_processing')\n",
    "output_dir.mkdir(exist_ok=True)\n",
    "for file_path in input_dir.glob('*.docx'):\n",
    "    try:\n",
    "        extracted_data = extract_data(file_path)  # Assume defined from docx_process.py\n",
    "        output_file = output_dir / f'{file_path.stem}.json'\n",
    "        with open(output_file, 'w', encoding='utf-8') as f:\n",
    "            json.dump(extracted_data, f, indent=2)\n",
    "        print(f'Processed {file_path.name}')\n",
    "    except Exception as e:\n",
    "        print(f'Error processing {file_path.name}: {e}')"
   ]
  },
  {
   "cell_type": "markdown",
   "metadata": {},
   "source": [
    "## Step 5: Exporting to Database\n",
    "\n",
    "`mssql_exporter.py` standardizes and stores all JSON data in SQLite (`combined.db`), with optional MSSQL export.\n",
    "\n",
    "**Sample Code**:"
   ]
  },
  {
   "cell_type": "code",
   "execution_count": null,
   "metadata": {},
   "outputs": [],
   "source": [
    "import sqlite3\n",
    "\n",
    "try:\n",
    "    conn = sqlite3.connect('mssql_export/combined.db')\n",
    "    df = pd.read_sql_query('SELECT * FROM data', conn)\n",
    "    print(df.head())\n",
    "    conn.close()\n",
    "except Exception as e:\n",
    "    print(f'Data loading failed: {e}. Sample data not included in public repo.')"
   ]
  },
  {
   "cell_type": "markdown",
   "metadata": {},
   "source": [
    "## Step 6: Rules for Analysis\n",
    "\n",
    "`rules.py` defines ideal ranges and impact/suggestion logic for water quality metrics (e.g., pH, conductivity).\n",
    "\n",
    "**Sample Rules**:"
   ]
  },
  {
   "cell_type": "code",
   "execution_count": null,
   "metadata": {},
   "outputs": [],
   "source": [
    "METRIC_RULES = {\n",
    "    'ph': {'ideal_min': 7.5, 'ideal_max': 9.0, 'impact_factor': 0.15, 'base_cost': 10000,\n",
    "           'high_impact': 'High pH promotes scaling, increasing energy costs.',\n",
    "           'low_impact': 'Low pH causes corrosion, leading to equipment damage.'}\n",
    "    # Add more metrics as needed\n",
    "}"
   ]
  },
  {
   "cell_type": "markdown",
   "metadata": {},
   "source": [
    "## Step 7: Interactive Dashboard\n",
    "\n",
    "`app.py` builds a Dash app with dropdowns, a line chart, and rule-based insights.\n",
    "\n",
    "**Sample Visualization** (run locally for interactivity):"
   ]
  },
  {
   "cell_type": "code",
   "execution_count": 1,
   "metadata": {},
   "outputs": [
    {
     "data": {
      "application/vnd.plotly.v1+json": {
       "config": {
        "plotlyServerURL": "https://plot.ly"
       },
       "data": [
        {
         "hovertemplate": "date=%{x}<br>Conductivity (µS/cm)=%{y}<extra></extra>",
         "legendgroup": "",
         "line": {
          "color": "#E84A27",
          "dash": "solid",
          "width": 3
         },
         "marker": {
          "symbol": "circle"
         },
         "mode": "lines",
         "name": "",
         "orientation": "v",
         "showlegend": false,
         "type": "scatter",
         "x": [
          "2025-01-01T00:00:00.000000000",
          "2025-01-02T00:00:00.000000000",
          "2025-01-03T00:00:00.000000000",
          "2025-01-04T00:00:00.000000000",
          "2025-01-05T00:00:00.000000000",
          "2025-01-06T00:00:00.000000000",
          "2025-01-07T00:00:00.000000000",
          "2025-01-08T00:00:00.000000000",
          "2025-01-09T00:00:00.000000000",
          "2025-01-10T00:00:00.000000000"
         ],
         "xaxis": "x",
         "y": {
          "bdata": "sAQUBeIEeAVGBQAFqgXcBSgF9gQ=",
          "dtype": "i2"
         },
         "yaxis": "y"
        }
       ],
       "layout": {
        "legend": {
         "tracegroupgap": 0
        },
        "template": {
         "data": {
          "bar": [
           {
            "error_x": {
             "color": "#f2f5fa"
            },
            "error_y": {
             "color": "#f2f5fa"
            },
            "marker": {
             "line": {
              "color": "rgb(17,17,17)",
              "width": 0.5
             },
             "pattern": {
              "fillmode": "overlay",
              "size": 10,
              "solidity": 0.2
             }
            },
            "type": "bar"
           }
          ],
          "barpolar": [
           {
            "marker": {
             "line": {
              "color": "rgb(17,17,17)",
              "width": 0.5
             },
             "pattern": {
              "fillmode": "overlay",
              "size": 10,
              "solidity": 0.2
             }
            },
            "type": "barpolar"
           }
          ],
          "carpet": [
           {
            "aaxis": {
             "endlinecolor": "#A2B1C6",
             "gridcolor": "#506784",
             "linecolor": "#506784",
             "minorgridcolor": "#506784",
             "startlinecolor": "#A2B1C6"
            },
            "baxis": {
             "endlinecolor": "#A2B1C6",
             "gridcolor": "#506784",
             "linecolor": "#506784",
             "minorgridcolor": "#506784",
             "startlinecolor": "#A2B1C6"
            },
            "type": "carpet"
           }
          ],
          "choropleth": [
           {
            "colorbar": {
             "outlinewidth": 0,
             "ticks": ""
            },
            "type": "choropleth"
           }
          ],
          "contour": [
           {
            "colorbar": {
             "outlinewidth": 0,
             "ticks": ""
            },
            "colorscale": [
             [
              0,
              "#0d0887"
             ],
             [
              0.1111111111111111,
              "#46039f"
             ],
             [
              0.2222222222222222,
              "#7201a8"
             ],
             [
              0.3333333333333333,
              "#9c179e"
             ],
             [
              0.4444444444444444,
              "#bd3786"
             ],
             [
              0.5555555555555556,
              "#d8576b"
             ],
             [
              0.6666666666666666,
              "#ed7953"
             ],
             [
              0.7777777777777778,
              "#fb9f3a"
             ],
             [
              0.8888888888888888,
              "#fdca26"
             ],
             [
              1,
              "#f0f921"
             ]
            ],
            "type": "contour"
           }
          ],
          "contourcarpet": [
           {
            "colorbar": {
             "outlinewidth": 0,
             "ticks": ""
            },
            "type": "contourcarpet"
           }
          ],
          "heatmap": [
           {
            "colorbar": {
             "outlinewidth": 0,
             "ticks": ""
            },
            "colorscale": [
             [
              0,
              "#0d0887"
             ],
             [
              0.1111111111111111,
              "#46039f"
             ],
             [
              0.2222222222222222,
              "#7201a8"
             ],
             [
              0.3333333333333333,
              "#9c179e"
             ],
             [
              0.4444444444444444,
              "#bd3786"
             ],
             [
              0.5555555555555556,
              "#d8576b"
             ],
             [
              0.6666666666666666,
              "#ed7953"
             ],
             [
              0.7777777777777778,
              "#fb9f3a"
             ],
             [
              0.8888888888888888,
              "#fdca26"
             ],
             [
              1,
              "#f0f921"
             ]
            ],
            "type": "heatmap"
           }
          ],
          "histogram": [
           {
            "marker": {
             "pattern": {
              "fillmode": "overlay",
              "size": 10,
              "solidity": 0.2
             }
            },
            "type": "histogram"
           }
          ],
          "histogram2d": [
           {
            "colorbar": {
             "outlinewidth": 0,
             "ticks": ""
            },
            "colorscale": [
             [
              0,
              "#0d0887"
             ],
             [
              0.1111111111111111,
              "#46039f"
             ],
             [
              0.2222222222222222,
              "#7201a8"
             ],
             [
              0.3333333333333333,
              "#9c179e"
             ],
             [
              0.4444444444444444,
              "#bd3786"
             ],
             [
              0.5555555555555556,
              "#d8576b"
             ],
             [
              0.6666666666666666,
              "#ed7953"
             ],
             [
              0.7777777777777778,
              "#fb9f3a"
             ],
             [
              0.8888888888888888,
              "#fdca26"
             ],
             [
              1,
              "#f0f921"
             ]
            ],
            "type": "histogram2d"
           }
          ],
          "histogram2dcontour": [
           {
            "colorbar": {
             "outlinewidth": 0,
             "ticks": ""
            },
            "colorscale": [
             [
              0,
              "#0d0887"
             ],
             [
              0.1111111111111111,
              "#46039f"
             ],
             [
              0.2222222222222222,
              "#7201a8"
             ],
             [
              0.3333333333333333,
              "#9c179e"
             ],
             [
              0.4444444444444444,
              "#bd3786"
             ],
             [
              0.5555555555555556,
              "#d8576b"
             ],
             [
              0.6666666666666666,
              "#ed7953"
             ],
             [
              0.7777777777777778,
              "#fb9f3a"
             ],
             [
              0.8888888888888888,
              "#fdca26"
             ],
             [
              1,
              "#f0f921"
             ]
            ],
            "type": "histogram2dcontour"
           }
          ],
          "mesh3d": [
           {
            "colorbar": {
             "outlinewidth": 0,
             "ticks": ""
            },
            "type": "mesh3d"
           }
          ],
          "parcoords": [
           {
            "line": {
             "colorbar": {
              "outlinewidth": 0,
              "ticks": ""
             }
            },
            "type": "parcoords"
           }
          ],
          "pie": [
           {
            "automargin": true,
            "type": "pie"
           }
          ],
          "scatter": [
           {
            "marker": {
             "line": {
              "color": "#283442"
             }
            },
            "type": "scatter"
           }
          ],
          "scatter3d": [
           {
            "line": {
             "colorbar": {
              "outlinewidth": 0,
              "ticks": ""
             }
            },
            "marker": {
             "colorbar": {
              "outlinewidth": 0,
              "ticks": ""
             }
            },
            "type": "scatter3d"
           }
          ],
          "scattercarpet": [
           {
            "marker": {
             "colorbar": {
              "outlinewidth": 0,
              "ticks": ""
             }
            },
            "type": "scattercarpet"
           }
          ],
          "scattergeo": [
           {
            "marker": {
             "colorbar": {
              "outlinewidth": 0,
              "ticks": ""
             }
            },
            "type": "scattergeo"
           }
          ],
          "scattergl": [
           {
            "marker": {
             "line": {
              "color": "#283442"
             }
            },
            "type": "scattergl"
           }
          ],
          "scattermap": [
           {
            "marker": {
             "colorbar": {
              "outlinewidth": 0,
              "ticks": ""
             }
            },
            "type": "scattermap"
           }
          ],
          "scattermapbox": [
           {
            "marker": {
             "colorbar": {
              "outlinewidth": 0,
              "ticks": ""
             }
            },
            "type": "scattermapbox"
           }
          ],
          "scatterpolar": [
           {
            "marker": {
             "colorbar": {
              "outlinewidth": 0,
              "ticks": ""
             }
            },
            "type": "scatterpolar"
           }
          ],
          "scatterpolargl": [
           {
            "marker": {
             "colorbar": {
              "outlinewidth": 0,
              "ticks": ""
             }
            },
            "type": "scatterpolargl"
           }
          ],
          "scatterternary": [
           {
            "marker": {
             "colorbar": {
              "outlinewidth": 0,
              "ticks": ""
             }
            },
            "type": "scatterternary"
           }
          ],
          "surface": [
           {
            "colorbar": {
             "outlinewidth": 0,
             "ticks": ""
            },
            "colorscale": [
             [
              0,
              "#0d0887"
             ],
             [
              0.1111111111111111,
              "#46039f"
             ],
             [
              0.2222222222222222,
              "#7201a8"
             ],
             [
              0.3333333333333333,
              "#9c179e"
             ],
             [
              0.4444444444444444,
              "#bd3786"
             ],
             [
              0.5555555555555556,
              "#d8576b"
             ],
             [
              0.6666666666666666,
              "#ed7953"
             ],
             [
              0.7777777777777778,
              "#fb9f3a"
             ],
             [
              0.8888888888888888,
              "#fdca26"
             ],
             [
              1,
              "#f0f921"
             ]
            ],
            "type": "surface"
           }
          ],
          "table": [
           {
            "cells": {
             "fill": {
              "color": "#506784"
             },
             "line": {
              "color": "rgb(17,17,17)"
             }
            },
            "header": {
             "fill": {
              "color": "#2a3f5f"
             },
             "line": {
              "color": "rgb(17,17,17)"
             }
            },
            "type": "table"
           }
          ]
         },
         "layout": {
          "annotationdefaults": {
           "arrowcolor": "#f2f5fa",
           "arrowhead": 0,
           "arrowwidth": 1
          },
          "autotypenumbers": "strict",
          "coloraxis": {
           "colorbar": {
            "outlinewidth": 0,
            "ticks": ""
           }
          },
          "colorscale": {
           "diverging": [
            [
             0,
             "#8e0152"
            ],
            [
             0.1,
             "#c51b7d"
            ],
            [
             0.2,
             "#de77ae"
            ],
            [
             0.3,
             "#f1b6da"
            ],
            [
             0.4,
             "#fde0ef"
            ],
            [
             0.5,
             "#f7f7f7"
            ],
            [
             0.6,
             "#e6f5d0"
            ],
            [
             0.7,
             "#b8e186"
            ],
            [
             0.8,
             "#7fbc41"
            ],
            [
             0.9,
             "#4d9221"
            ],
            [
             1,
             "#276419"
            ]
           ],
           "sequential": [
            [
             0,
             "#0d0887"
            ],
            [
             0.1111111111111111,
             "#46039f"
            ],
            [
             0.2222222222222222,
             "#7201a8"
            ],
            [
             0.3333333333333333,
             "#9c179e"
            ],
            [
             0.4444444444444444,
             "#bd3786"
            ],
            [
             0.5555555555555556,
             "#d8576b"
            ],
            [
             0.6666666666666666,
             "#ed7953"
            ],
            [
             0.7777777777777778,
             "#fb9f3a"
            ],
            [
             0.8888888888888888,
             "#fdca26"
            ],
            [
             1,
             "#f0f921"
            ]
           ],
           "sequentialminus": [
            [
             0,
             "#0d0887"
            ],
            [
             0.1111111111111111,
             "#46039f"
            ],
            [
             0.2222222222222222,
             "#7201a8"
            ],
            [
             0.3333333333333333,
             "#9c179e"
            ],
            [
             0.4444444444444444,
             "#bd3786"
            ],
            [
             0.5555555555555556,
             "#d8576b"
            ],
            [
             0.6666666666666666,
             "#ed7953"
            ],
            [
             0.7777777777777778,
             "#fb9f3a"
            ],
            [
             0.8888888888888888,
             "#fdca26"
            ],
            [
             1,
             "#f0f921"
            ]
           ]
          },
          "colorway": [
           "#636efa",
           "#EF553B",
           "#00cc96",
           "#ab63fa",
           "#FFA15A",
           "#19d3f3",
           "#FF6692",
           "#B6E880",
           "#FF97FF",
           "#FECB52"
          ],
          "font": {
           "color": "#f2f5fa"
          },
          "geo": {
           "bgcolor": "rgb(17,17,17)",
           "lakecolor": "rgb(17,17,17)",
           "landcolor": "rgb(17,17,17)",
           "showlakes": true,
           "showland": true,
           "subunitcolor": "#506784"
          },
          "hoverlabel": {
           "align": "left"
          },
          "hovermode": "closest",
          "mapbox": {
           "style": "dark"
          },
          "paper_bgcolor": "rgb(17,17,17)",
          "plot_bgcolor": "rgb(17,17,17)",
          "polar": {
           "angularaxis": {
            "gridcolor": "#506784",
            "linecolor": "#506784",
            "ticks": ""
           },
           "bgcolor": "rgb(17,17,17)",
           "radialaxis": {
            "gridcolor": "#506784",
            "linecolor": "#506784",
            "ticks": ""
           }
          },
          "scene": {
           "xaxis": {
            "backgroundcolor": "rgb(17,17,17)",
            "gridcolor": "#506784",
            "gridwidth": 2,
            "linecolor": "#506784",
            "showbackground": true,
            "ticks": "",
            "zerolinecolor": "#C8D4E3"
           },
           "yaxis": {
            "backgroundcolor": "rgb(17,17,17)",
            "gridcolor": "#506784",
            "gridwidth": 2,
            "linecolor": "#506784",
            "showbackground": true,
            "ticks": "",
            "zerolinecolor": "#C8D4E3"
           },
           "zaxis": {
            "backgroundcolor": "rgb(17,17,17)",
            "gridcolor": "#506784",
            "gridwidth": 2,
            "linecolor": "#506784",
            "showbackground": true,
            "ticks": "",
            "zerolinecolor": "#C8D4E3"
           }
          },
          "shapedefaults": {
           "line": {
            "color": "#f2f5fa"
           }
          },
          "sliderdefaults": {
           "bgcolor": "#C8D4E3",
           "bordercolor": "rgb(17,17,17)",
           "borderwidth": 1,
           "tickwidth": 0
          },
          "ternary": {
           "aaxis": {
            "gridcolor": "#506784",
            "linecolor": "#506784",
            "ticks": ""
           },
           "baxis": {
            "gridcolor": "#506784",
            "linecolor": "#506784",
            "ticks": ""
           },
           "bgcolor": "rgb(17,17,17)",
           "caxis": {
            "gridcolor": "#506784",
            "linecolor": "#506784",
            "ticks": ""
           }
          },
          "title": {
           "x": 0.05
          },
          "updatemenudefaults": {
           "bgcolor": "#506784",
           "borderwidth": 0
          },
          "xaxis": {
           "automargin": true,
           "gridcolor": "#283442",
           "linecolor": "#506784",
           "ticks": "",
           "title": {
            "standoff": 15
           },
           "zerolinecolor": "#283442",
           "zerolinewidth": 2
          },
          "yaxis": {
           "automargin": true,
           "gridcolor": "#283442",
           "linecolor": "#506784",
           "ticks": "",
           "title": {
            "standoff": 15
           },
           "zerolinecolor": "#283442",
           "zerolinewidth": 2
          }
         }
        },
        "title": {
         "text": "Sample Conductivity Trend"
        },
        "xaxis": {
         "anchor": "y",
         "domain": [
          0,
          1
         ],
         "title": {
          "text": "date"
         }
        },
        "yaxis": {
         "anchor": "x",
         "domain": [
          0,
          1
         ],
         "title": {
          "text": "Conductivity (µS/cm)"
         }
        }
       }
      },
      "image/png": "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"
     },
     "metadata": {},
     "output_type": "display_data"
    }
   ],
   "source": [
    "import plotly.express as px\n",
    "import pandas as pd\n",
    "\n",
    "# Sample data for static plot\n",
    "df = pd.DataFrame({\n",
    "    'date': pd.date_range('2025-01-01', periods=10),\n",
    "    'conductivity': [1200, 1300, 1250, 1400, 1350, 1280, 1450, 1500, 1320, 1270]\n",
    "})\n",
    "fig = px.line(df, x='date', y='conductivity', title='Sample Conductivity Trend',\n",
    "              labels={'conductivity': 'Conductivity (µS/cm)'}, template='plotly_dark')\n",
    "fig.update_traces(line_color='#E84A27', line_width=3)\n",
    "fig.show()\n",
    "\n",
    "# Run app.py for the full dashboard: python Water_line/app.py"
   ]
  },
  {
   "cell_type": "markdown",
   "metadata": {},
   "source": [
    "## Dashboard Preview\n",
    "\n",
    "![Dashboard Screenshot](screenshot.PNG)"
   ]
  },
  {
   "cell_type": "markdown",
   "metadata": {},
   "source": [
    "## Conclusion\n",
    "\n",
    "This workflow modernizes water report processing, enabling data-driven decisions via a robust ETL process and interactive dashboard.\n",
    "\n",
    "**Skills Demonstrated**:\n",
    "- Data extraction from multi-format PDFs/DOCX.\n",
    "- ETL pipeline with SQLite storage.\n",
    "- Interactive visualization with Dash/Plotly."
   ]
  }
 ],
 "metadata": {
  "kernelspec": {
   "display_name": "Python 3 (ipykernel)",
   "language": "python",
   "name": "python3"
  },
  "language_info": {
   "codemirror_mode": {
    "name": "ipython",
    "version": 3
   },
   "file_extension": ".py",
   "mimetype": "text/x-python",
   "name": "python",
   "nbconvert_exporter": "python",
   "pygments_lexer": "ipython3",
   "version": "3.12.0"
  }
 },
 "nbformat": 4,
 "nbformat_minor": 4
}
